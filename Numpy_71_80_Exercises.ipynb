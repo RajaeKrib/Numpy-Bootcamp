{
  "nbformat": 4,
  "nbformat_minor": 0,
  "metadata": {
    "colab": {
      "name": "Numpy - 71-80 Exercises.ipynb",
      "provenance": [],
      "collapsed_sections": [],
      "include_colab_link": true
    },
    "kernelspec": {
      "name": "python3",
      "display_name": "Python 3"
    }
  },
  "cells": [
    {
      "cell_type": "markdown",
      "metadata": {
        "id": "view-in-github",
        "colab_type": "text"
      },
      "source": [
        "<a href=\"https://colab.research.google.com/github/RajaeKrib/Numpy-Bootcamp/blob/main/Numpy_71_80_Exercises.ipynb\" target=\"_parent\"><img src=\"https://colab.research.google.com/assets/colab-badge.svg\" alt=\"Open In Colab\"/></a>"
      ]
    },
    {
      "cell_type": "markdown",
      "metadata": {
        "id": "WLEgCW5F1hho"
      },
      "source": [
        "## Numpy\n",
        "\n",
        "### Table of contents:\n",
        "* [Import biblioteki](#0)\n",
        "* [Exercise 71](#1)\n",
        "* [Exercise 72](#2)\n",
        "* [Exercise 73](#3)\n",
        "* [Exercise 74](#4)\n",
        "* [Exercise 75](#5)\n",
        "* [Exercise 76](#6)\n",
        "* [Exercise 77](#7)\n",
        "* [Exercise 78](#8)\n",
        "* [Exercise 79](#9)\n",
        "* [Exercise 80](#10)"
      ]
    },
    {
      "cell_type": "markdown",
      "metadata": {
        "id": "zeLOLmTj1kBM"
      },
      "source": [
        "### <a name='0'></a> Import of libraries"
      ]
    },
    {
      "cell_type": "code",
      "metadata": {
        "id": "HXMB7SMe1Wnz",
        "colab": {
          "base_uri": "https://localhost:8080/",
          "height": 35
        },
        "outputId": "29cbf868-3cb5-4bc5-a00f-239c9fcdc8f5"
      },
      "source": [
        "import numpy as np\n",
        "\n",
        "np.random.seed(42)\n",
        "np.__version__"
      ],
      "execution_count": null,
      "outputs": [
        {
          "output_type": "execute_result",
          "data": {
            "application/vnd.google.colaboratory.intrinsic+json": {
              "type": "string"
            },
            "text/plain": [
              "'1.19.5'"
            ]
          },
          "metadata": {
            "tags": []
          },
          "execution_count": 1
        }
      ]
    },
    {
      "cell_type": "markdown",
      "metadata": {
        "id": "cyc70pMe1oCg"
      },
      "source": [
        "### <a name='1'></a> Exercise 71\n",
        "The following $ A $ array is given:\n",
        "```\n",
        "A = np.array([['id', 'price'],\n",
        "              ['001', 14.99],\n",
        "              ['002', 4.99],\n",
        "              ['003', 7.99],\n",
        "              ['004', 2.49],\n",
        "              ['005', 1.49]])\n",
        "```\n",
        "From the second row of the $ A $ array, randomly shuffle the rows in the array.\n",
        "\n",
        "__Tip:__ Use the _np.random.shuffle()_ function.\n"
      ]
    },
    {
      "cell_type": "code",
      "metadata": {
        "id": "HgwIttAJzJr3",
        "colab": {
          "base_uri": "https://localhost:8080/"
        },
        "outputId": "c1d798bf-8fb3-408d-b98c-5970d78740b2"
      },
      "source": [
        "A = np.array([['id', 'price'],\n",
        "              ['001', 14.99],\n",
        "              ['002', 4.99],\n",
        "              ['003', 7.99],\n",
        "              ['004', 2.49],\n",
        "              ['005', 1.49]])\n",
        "\n",
        "np.random.shuffle(A)\n",
        "A"
      ],
      "execution_count": null,
      "outputs": [
        {
          "output_type": "execute_result",
          "data": {
            "text/plain": [
              "array([['id', 'price'],\n",
              "       ['005', '1.49'],\n",
              "       ['003', '7.99'],\n",
              "       ['001', '14.99'],\n",
              "       ['004', '2.49'],\n",
              "       ['002', '4.99']], dtype='<U5')"
            ]
          },
          "metadata": {
            "tags": []
          },
          "execution_count": 5
        }
      ]
    },
    {
      "cell_type": "markdown",
      "metadata": {
        "id": "J9pY1rtr1sC0"
      },
      "source": [
        "### <a name='2'></a> Exercise 72\n",
        "The following array $ A $ is given:\n",
        "\n",
        "```\n",
        "A = np.array([0.2, 0.15, 0.1, 0.3, 0.2, 0.05])\n",
        "```\n",
        "Return an array of indexes that will sort the array $ A $ in ascending order.\n",
        "\n",
        "__Expected result:__\n",
        "\n",
        "```\n",
        "array([5, 2, 1, 0, 4, 3])\n",
        "```\n",
        "__Tip:__ Use the _np.argsort()_ function.\n"
      ]
    },
    {
      "cell_type": "code",
      "metadata": {
        "id": "KiBwSOtRzcmv",
        "colab": {
          "base_uri": "https://localhost:8080/"
        },
        "outputId": "c9232e35-e72d-4340-8086-62b11a8d35b9"
      },
      "source": [
        "A = np.array([0.2, 0.15, 0.1, 0.3, 0.2, 0.05])\n",
        "np.argsort(A)"
      ],
      "execution_count": null,
      "outputs": [
        {
          "output_type": "execute_result",
          "data": {
            "text/plain": [
              "array([5, 2, 1, 0, 4, 3])"
            ]
          },
          "metadata": {
            "tags": []
          },
          "execution_count": 6
        }
      ]
    },
    {
      "cell_type": "markdown",
      "metadata": {
        "id": "XQLYT2m11wVG"
      },
      "source": [
        "### <a name='3'></a> Exercise 73\n",
        "\n",
        "The following array $ A $ is given:\n",
        "```\n",
        "A = np.random.randn(10, 8)\n",
        "```\n",
        "Round the values of this array to three decimal places.\n",
        "\n",
        "__Tip:__ Use the function _np.round()_.\n"
      ]
    },
    {
      "cell_type": "code",
      "metadata": {
        "id": "n6ESDWCszmuq",
        "colab": {
          "base_uri": "https://localhost:8080/"
        },
        "outputId": "b075dd86-ddef-40ef-b582-e9af58eea04b"
      },
      "source": [
        "A = np.random.randn(10, 8)\n",
        "np.round(A, decimals=3)"
      ],
      "execution_count": null,
      "outputs": [
        {
          "output_type": "execute_result",
          "data": {
            "text/plain": [
              "array([[ 0.293,  0.897, -0.61 , -0.316, -1.482, -0.229,  0.963, -0.21 ],\n",
              "       [-0.774, -0.36 ,  0.724, -0.256,  0.85 , -1.311, -0.87 , -0.507],\n",
              "       [-1.31 ,  2.944, -1.096,  0.915, -0.666, -0.514,  0.301, -1.459],\n",
              "       [-0.663, -0.146, -0.846, -0.822,  1.087,  1.005, -0.442, -0.084],\n",
              "       [ 1.237, -1.426,  0.338,  1.975,  1.965, -1.94 , -0.763,  0.169],\n",
              "       [-1.322, -0.668, -0.137,  1.401, -0.045,  0.217,  0.512,  0.543],\n",
              "       [ 0.028, -1.197,  0.79 ,  0.431, -1.097, -0.682,  0.888,  0.605],\n",
              "       [-0.72 , -0.27 , -0.143,  0.617,  1.249,  0.066,  1.169,  0.873],\n",
              "       [ 0.206, -1.443, -1.028,  0.741, -1.711,  0.119,  1.   ,  0.152],\n",
              "       [-0.601, -0.847,  0.816,  0.472, -0.285,  1.065,  0.854,  1.789]])"
            ]
          },
          "metadata": {
            "tags": []
          },
          "execution_count": 11
        }
      ]
    },
    {
      "cell_type": "markdown",
      "metadata": {
        "id": "4xTKSUzg10MK"
      },
      "source": [
        "### <a name='4'></a> Exercise 74\n",
        "Determine the roots of the polynomial:\n",
        "* $W(x) = 4x^2 + 5x + 1$\n",
        "\n",
        "Check the solution.\n",
        "\n",
        "__Tip:__ Use the _np.roots()_ and _np.polyval()_ functions."
      ]
    },
    {
      "cell_type": "code",
      "metadata": {
        "id": "ciQ9bE-tz4KR",
        "colab": {
          "base_uri": "https://localhost:8080/"
        },
        "outputId": "6c6183bc-ccef-4222-ab0c-d15ba71793a3"
      },
      "source": [
        "np.polyval([4,5,1], np.roots([4,5,1]))"
      ],
      "execution_count": null,
      "outputs": [
        {
          "output_type": "execute_result",
          "data": {
            "text/plain": [
              "array([0., 0.])"
            ]
          },
          "metadata": {
            "tags": []
          },
          "execution_count": 10
        }
      ]
    },
    {
      "cell_type": "markdown",
      "metadata": {
        "id": "o3HKIKlP15Ro"
      },
      "source": [
        "### <a name='5'></a> Exercise 75\n",
        "Determine the roots of polynomials:\n",
        "* $Q(x) = 2x^3 + 4x^2 -5x + 1$\n",
        "* $R(x) = 2x^3 -5x + 1$\n",
        "\n",
        "__Tip:__ Use the _np.roots()_ function.\n"
      ]
    },
    {
      "cell_type": "code",
      "metadata": {
        "id": "M1rA_HU50DQU",
        "colab": {
          "base_uri": "https://localhost:8080/"
        },
        "outputId": "6a4fb0a0-4ecf-4762-b899-069fe135afb7"
      },
      "source": [
        "Q = np.roots([2,4,-5,1])\n",
        "R = np.roots([2,-5,1])\n",
        "\n",
        "print(f'Q(x) roots are {Q}')\n",
        "print(f'R(x) roots are {R}')"
      ],
      "execution_count": null,
      "outputs": [
        {
          "output_type": "stream",
          "text": [
            "Q(x) roots are [-2.91610583  0.65388685  0.26221898]\n",
            "R(x) roots are [2.28077641 0.21922359]\n"
          ],
          "name": "stdout"
        }
      ]
    },
    {
      "cell_type": "markdown",
      "metadata": {
        "id": "PunXd_Ey16so"
      },
      "source": [
        "### <a name='6'></a> Exercise 76\n",
        "Polynomials are given:\n",
        "* $W(x) = 4x^2 + 5x + 1$\n",
        "* $Q(x) = 2x^3 + 4x^2 -5x + 1$\n"
      ]
    },
    {
      "cell_type": "code",
      "metadata": {
        "id": "rq_SzME10KXX"
      },
      "source": [
        "W = np.array([4, 5, 1])\n",
        "Q = np.array([2, 4, -5, 1])"
      ],
      "execution_count": null,
      "outputs": []
    },
    {
      "cell_type": "markdown",
      "metadata": {
        "id": "N6cZ92NR0Nl5"
      },
      "source": [
        "Perform:\n",
        "* $ W (x) + Q (x) $"
      ]
    },
    {
      "cell_type": "code",
      "metadata": {
        "id": "xCQzPpzp0Qkj",
        "colab": {
          "base_uri": "https://localhost:8080/"
        },
        "outputId": "a4b2fd7b-f955-4ef3-e756-cb3b75933696"
      },
      "source": [
        "np.polyadd(W, Q)"
      ],
      "execution_count": null,
      "outputs": [
        {
          "output_type": "execute_result",
          "data": {
            "text/plain": [
              "array([2, 8, 0, 2])"
            ]
          },
          "metadata": {
            "tags": []
          },
          "execution_count": 16
        }
      ]
    },
    {
      "cell_type": "markdown",
      "metadata": {
        "id": "Ykk5myN_0RzN"
      },
      "source": [
        "* $W(x) - Q(x)$\n"
      ]
    },
    {
      "cell_type": "code",
      "metadata": {
        "id": "YZjEl1un0S9x",
        "colab": {
          "base_uri": "https://localhost:8080/"
        },
        "outputId": "7420e7e7-4ed1-44f4-833e-a289af5995a4"
      },
      "source": [
        "np.polysub(W,Q)"
      ],
      "execution_count": null,
      "outputs": [
        {
          "output_type": "execute_result",
          "data": {
            "text/plain": [
              "array([-2,  0, 10,  0])"
            ]
          },
          "metadata": {
            "tags": []
          },
          "execution_count": 17
        }
      ]
    },
    {
      "cell_type": "markdown",
      "metadata": {
        "id": "LhAWWJjL0Uen"
      },
      "source": [
        "* $W(x) * Q(x)$\n"
      ]
    },
    {
      "cell_type": "code",
      "metadata": {
        "id": "hx7SGBax0V22",
        "colab": {
          "base_uri": "https://localhost:8080/"
        },
        "outputId": "c28df4b5-4970-452e-bef8-cdecfc8e9d79"
      },
      "source": [
        "np.polymul(W, Q)"
      ],
      "execution_count": null,
      "outputs": [
        {
          "output_type": "execute_result",
          "data": {
            "text/plain": [
              "array([  8,  26,   2, -17,   0,   1])"
            ]
          },
          "metadata": {
            "tags": []
          },
          "execution_count": 18
        }
      ]
    },
    {
      "cell_type": "markdown",
      "metadata": {
        "id": "oS3Qswrl0XRp"
      },
      "source": [
        "* $W(x) + 2Q(x)$"
      ]
    },
    {
      "cell_type": "code",
      "metadata": {
        "id": "GskzlXBy0Ymo",
        "colab": {
          "base_uri": "https://localhost:8080/"
        },
        "outputId": "04229d59-8f43-4c56-8181-9d2d4d374d39"
      },
      "source": [
        "np.polyadd(W, 2*Q)"
      ],
      "execution_count": null,
      "outputs": [
        {
          "output_type": "execute_result",
          "data": {
            "text/plain": [
              "array([ 4, 12, -5,  3])"
            ]
          },
          "metadata": {
            "tags": []
          },
          "execution_count": 19
        }
      ]
    },
    {
      "cell_type": "markdown",
      "metadata": {
        "id": "hOhqDRz618Tx"
      },
      "source": [
        "### <a name='7'></a> Exercise 77\n",
        "The array below is given:\n",
        "\n",
        "```\n",
        "A = np.array([[-4, 3, 0, 1, -5],\n",
        "              [6, -4, -2, 1, 3]])\n",
        "```\n",
        "Use the sign function for the array $ A $. As a reminder, the function works as follows: returns -1 for negative values, zero for zero, and 1 for positive values.\n",
        "\n",
        "__Expected result:__\n",
        "\n",
        "```\n",
        "array([[-1,  1,  0,  1, -1],\n",
        "       [ 1, -1, -1,  1,  1]])\n",
        "```\n",
        "__Tip:__ Use the _np.sign()_ function."
      ]
    },
    {
      "cell_type": "code",
      "metadata": {
        "id": "B2kbHQy10ytn",
        "colab": {
          "base_uri": "https://localhost:8080/"
        },
        "outputId": "b9165150-1616-4b91-a43b-db4f28cf7c3f"
      },
      "source": [
        "A = np.array([[-4, 3, 0, 1, -5],\n",
        "              [6, -4, -2, 1, 3]])\n",
        "\n",
        "np.sign(A)"
      ],
      "execution_count": null,
      "outputs": [
        {
          "output_type": "execute_result",
          "data": {
            "text/plain": [
              "array([[-1,  1,  0,  1, -1],\n",
              "       [ 1, -1, -1,  1,  1]])"
            ]
          },
          "metadata": {
            "tags": []
          },
          "execution_count": 20
        }
      ]
    },
    {
      "cell_type": "markdown",
      "metadata": {
        "id": "TXUd_4631-gw"
      },
      "source": [
        "### <a name='8'></a> Exercise 78\n",
        "Using the _np.arange()_ function, generate the following array:\n",
        "\n",
        "```\n",
        "array(['2021-01-01', '2021-01-02', '2021-01-03', '2021-01-04',\n",
        "       '2021-01-05', '2021-01-06', '2021-01-07', '2021-01-08',\n",
        "       '2021-01-09', '2021-01-10', '2021-01-11', '2021-01-12',\n",
        "       '2021-01-13', '2021-01-14', '2021-01-15', '2021-01-16',\n",
        "       '2021-01-17', '2021-01-18', '2021-01-19', '2021-01-20',\n",
        "       '2021-01-21', '2021-01-22', '2021-01-23', '2021-01-24',\n",
        "       '2021-01-25', '2021-01-26', '2021-01-27', '2021-01-28',\n",
        "       '2021-01-29', '2021-01-30', '2021-01-31'], dtype='datetime64[D]')\n",
        "```\n"
      ]
    },
    {
      "cell_type": "code",
      "metadata": {
        "id": "3yNQkyOG05JQ",
        "colab": {
          "base_uri": "https://localhost:8080/"
        },
        "outputId": "4269224e-5d51-400e-d09b-0f5e3bf9fbfa"
      },
      "source": [
        "np.arange('2021-01-01', '2021-02-01', dtype='datetime64[D]')"
      ],
      "execution_count": null,
      "outputs": [
        {
          "output_type": "execute_result",
          "data": {
            "text/plain": [
              "array(['2021-01-01', '2021-01-02', '2021-01-03', '2021-01-04',\n",
              "       '2021-01-05', '2021-01-06', '2021-01-07', '2021-01-08',\n",
              "       '2021-01-09', '2021-01-10', '2021-01-11', '2021-01-12',\n",
              "       '2021-01-13', '2021-01-14', '2021-01-15', '2021-01-16',\n",
              "       '2021-01-17', '2021-01-18', '2021-01-19', '2021-01-20',\n",
              "       '2021-01-21', '2021-01-22', '2021-01-23', '2021-01-24',\n",
              "       '2021-01-25', '2021-01-26', '2021-01-27', '2021-01-28',\n",
              "       '2021-01-29', '2021-01-30', '2021-01-31'], dtype='datetime64[D]')"
            ]
          },
          "metadata": {
            "tags": []
          },
          "execution_count": 22
        }
      ]
    },
    {
      "cell_type": "markdown",
      "metadata": {
        "id": "tgI6xEn-2AQo"
      },
      "source": [
        "### <a name='9'></a> Exercise 79\n",
        "\n",
        "Using the _np.arange()_ function, generate the following array:\n",
        "\n",
        "```\n",
        "array([['2021-01', '2021-02', '2021-03'],\n",
        "       ['2021-04', '2021-05', '2021-06'],\n",
        "       ['2021-07', '2021-08', '2021-09'],\n",
        "       ['2021-10', '2021-11', '2021-12']], dtype='datetime64[M]')\n",
        "```\n"
      ]
    },
    {
      "cell_type": "code",
      "metadata": {
        "id": "3A5SIkof0-lq",
        "colab": {
          "base_uri": "https://localhost:8080/"
        },
        "outputId": "23d09378-4624-4a97-fd70-d203ecd36af5"
      },
      "source": [
        "np.arange('2021-01', '2022-11', dtype='datetime64[M]')"
      ],
      "execution_count": null,
      "outputs": [
        {
          "output_type": "execute_result",
          "data": {
            "text/plain": [
              "array(['2021-01', '2021-02', '2021-03', '2021-04', '2021-05', '2021-06',\n",
              "       '2021-07', '2021-08', '2021-09', '2021-10', '2021-11', '2021-12',\n",
              "       '2022-01', '2022-02', '2022-03', '2022-04', '2022-05', '2022-06',\n",
              "       '2022-07', '2022-08', '2022-09', '2022-10'], dtype='datetime64[M]')"
            ]
          },
          "metadata": {
            "tags": []
          },
          "execution_count": 25
        }
      ]
    },
    {
      "cell_type": "markdown",
      "metadata": {
        "id": "wxhpf-uq2B1I"
      },
      "source": [
        "### <a name='10'></a> Exercise 80\n",
        "Using the _np.datetime64()_ function, generate today's date (the date you were doing the exercise)."
      ]
    },
    {
      "cell_type": "code",
      "metadata": {
        "id": "YFc0KW6URsuc",
        "colab": {
          "base_uri": "https://localhost:8080/"
        },
        "outputId": "928c2460-dab6-4771-9137-66bd2d22ed5a"
      },
      "source": [
        "np.datetime64('today')"
      ],
      "execution_count": null,
      "outputs": [
        {
          "output_type": "execute_result",
          "data": {
            "text/plain": [
              "numpy.datetime64('2021-05-27')"
            ]
          },
          "metadata": {
            "tags": []
          },
          "execution_count": 27
        }
      ]
    }
  ]
}