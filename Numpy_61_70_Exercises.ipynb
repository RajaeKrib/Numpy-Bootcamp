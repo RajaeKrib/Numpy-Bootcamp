{
  "nbformat": 4,
  "nbformat_minor": 0,
  "metadata": {
    "colab": {
      "name": "Numpy - 61-70 Exercises.ipynb",
      "provenance": [],
      "collapsed_sections": [],
      "include_colab_link": true
    },
    "kernelspec": {
      "name": "python3",
      "display_name": "Python 3"
    }
  },
  "cells": [
    {
      "cell_type": "markdown",
      "metadata": {
        "id": "view-in-github",
        "colab_type": "text"
      },
      "source": [
        "<a href=\"https://colab.research.google.com/github/RajaeKrib/Numpy-Bootcamp/blob/main/Numpy_61_70_Exercises.ipynb\" target=\"_parent\"><img src=\"https://colab.research.google.com/assets/colab-badge.svg\" alt=\"Open In Colab\"/></a>"
      ]
    },
    {
      "cell_type": "markdown",
      "metadata": {
        "id": "WLEgCW5F1hho"
      },
      "source": [
        "## Numpy\n",
        "\n",
        "### Table of contents:\n",
        "* [Import biblioteki](#0)\n",
        "* [Exercise 61](#1)\n",
        "* [Exercise 62](#2)\n",
        "* [Exercise 63](#3)\n",
        "* [Exercise 64](#4)\n",
        "* [Exercise 65](#5)\n",
        "* [Exercise 66](#6)\n",
        "* [Exercise 67](#7)\n",
        "* [Exercise 68](#8)\n",
        "* [Exercise 69](#9)\n",
        "* [Exercise 70](#10)"
      ]
    },
    {
      "cell_type": "markdown",
      "metadata": {
        "id": "zeLOLmTj1kBM"
      },
      "source": [
        "### <a name='0'></a> Import of libraries"
      ]
    },
    {
      "cell_type": "code",
      "metadata": {
        "id": "HXMB7SMe1Wnz",
        "colab": {
          "base_uri": "https://localhost:8080/",
          "height": 35
        },
        "outputId": "b1201403-1038-49d9-9a67-d5aed3db38d2"
      },
      "source": [
        "import numpy as np\n",
        "\n",
        "np.set_printoptions(suppress=True, precision=4)\n",
        "np.random.seed(42)\n",
        "np.__version__"
      ],
      "execution_count": null,
      "outputs": [
        {
          "output_type": "execute_result",
          "data": {
            "application/vnd.google.colaboratory.intrinsic+json": {
              "type": "string"
            },
            "text/plain": [
              "'1.19.5'"
            ]
          },
          "metadata": {
            "tags": []
          },
          "execution_count": 1
        }
      ]
    },
    {
      "cell_type": "markdown",
      "metadata": {
        "id": "cyc70pMe1oCg"
      },
      "source": [
        "### <a name='1'></a> Exercise 61\n",
        "The following two arrays $ A $ and $ B $ are given:\n",
        "\n",
        "```\n",
        "A = np.array([[3, 4, 9, 2],\n",
        "              [5, 3, 2, 5]])\n",
        "B = np.array([[4, 3, 2, 5],\n",
        "              [6, 3, 1, 6]])\n",
        "```\n",
        "\n",
        "Determine an array consisting of arithmetic means $ A $ and $ B $ of the corresponding elements.\n",
        "\n",
        "__Expected result:__\n",
        "```\n",
        "array([[3.5, 3.5, 5.5, 3.5],\n",
        "       [5.5, 3. , 1.5, 5.5]])\n",
        "```"
      ]
    },
    {
      "cell_type": "code",
      "metadata": {
        "id": "3r_t-HP5lKWP",
        "colab": {
          "base_uri": "https://localhost:8080/"
        },
        "outputId": "d583bfd1-f578-48f0-b7a9-9f1f28a3c5d6"
      },
      "source": [
        "A = np.array([[3, 4, 9, 2],\n",
        "              [5, 3, 2, 5]])\n",
        "\n",
        "B = np.array([[4, 3, 2, 5],\n",
        "              [6, 3, 1, 6]])\n",
        "\n",
        "np.mean((A,B), axis=1)"
      ],
      "execution_count": null,
      "outputs": [
        {
          "output_type": "execute_result",
          "data": {
            "text/plain": [
              "array([[4. , 3.5, 5.5, 3.5],\n",
              "       [5. , 3. , 1.5, 5.5]])"
            ]
          },
          "metadata": {
            "tags": []
          },
          "execution_count": 6
        }
      ]
    },
    {
      "cell_type": "markdown",
      "metadata": {
        "id": "J9pY1rtr1sC0"
      },
      "source": [
        "### <a name='2'></a> Exercise 62\n",
        "The following two arrays $ A $ and $ B $ are given:\n",
        "```\n",
        "A = np.array([[3, 4, 9, 2],\n",
        "              [5, 3, 2, 5]])\n",
        "B = np.array([[4, 3, 2, 5],\n",
        "              [6, 3, 1, 6]])\n",
        "```\n",
        "Multiply arrays element-by-element (element-wise)."
      ]
    },
    {
      "cell_type": "code",
      "metadata": {
        "id": "qBxj5KRXlZ4c",
        "colab": {
          "base_uri": "https://localhost:8080/"
        },
        "outputId": "d7b2bdab-d58f-486c-f9dd-335fb36f21ba"
      },
      "source": [
        "A = np.array([[3, 4, 9, 2],\n",
        "              [5, 3, 2, 5]])\n",
        "B = np.array([[4, 3, 2, 5],\n",
        "              [6, 3, 1, 6]])\n",
        "\n",
        "A*B"
      ],
      "execution_count": null,
      "outputs": [
        {
          "output_type": "execute_result",
          "data": {
            "text/plain": [
              "array([[12, 12, 18, 10],\n",
              "       [30,  9,  2, 30]])"
            ]
          },
          "metadata": {
            "tags": []
          },
          "execution_count": 5
        }
      ]
    },
    {
      "cell_type": "markdown",
      "metadata": {
        "id": "XQLYT2m11wVG"
      },
      "source": [
        "### <a name='3'></a> Exercise 63\n",
        "The following numpy array $ A $ is given:\n",
        "```\n",
        "A = np.array([[3, 4, 9, 2],\n",
        "              [5, 3, 2, 5]])\n",
        "```\n",
        "Determine the root of each element of the array $ A $.\n",
        "\n",
        "__Tip:__ Use the _np.sqrt()_ function."
      ]
    },
    {
      "cell_type": "code",
      "metadata": {
        "id": "IbfkRWwalza9",
        "colab": {
          "base_uri": "https://localhost:8080/"
        },
        "outputId": "b8d39a8e-9d9c-4866-89e0-7a810bf1c0f5"
      },
      "source": [
        "A = np.array([[3, 4, 9, 2],\n",
        "              [5, 3, 2, 5]])\n",
        "np.sqrt(A)"
      ],
      "execution_count": null,
      "outputs": [
        {
          "output_type": "execute_result",
          "data": {
            "text/plain": [
              "array([[1.7321, 2.    , 3.    , 1.4142],\n",
              "       [2.2361, 1.7321, 1.4142, 2.2361]])"
            ]
          },
          "metadata": {
            "tags": []
          },
          "execution_count": 7
        }
      ]
    },
    {
      "cell_type": "markdown",
      "metadata": {
        "id": "4xTKSUzg10MK"
      },
      "source": [
        "### <a name='4'></a> Exercise 64\n",
        "The following arrays $ A $ and $ B $ are given:\n",
        "```\n",
        "A = np.linspace(0, np.pi / 2, 20)\n",
        "B = np.full(shape=(20,), fill_value=1, dtype='float')\n",
        "```\n",
        "Check the Pythagorean formula for sines and cosines on the $ A $ array and then compare the result with the $ B $ array. Use the _np.allclose()_ function.\n",
        "\n",
        "__Pythagorean formula for sines and cosines:__ For any angle value $\\alpha \\in R $:\n",
        "$$sin^2\\alpha + cos^2\\alpha = 1$$"
      ]
    },
    {
      "cell_type": "code",
      "metadata": {
        "id": "wGl5DTTDnSiv",
        "colab": {
          "base_uri": "https://localhost:8080/"
        },
        "outputId": "281bdc74-c5bd-47fa-b175-57b5f7bcaf77"
      },
      "source": [
        "A = np.linspace(0, np.pi / 2, 20)\n",
        "B = np.full(shape=(20,), fill_value=1, dtype='float')\n",
        "\n",
        "PythForm = np.sin(A)**2 + np.cos(A)**2\n",
        "np.allclose(PythForm, B)"
      ],
      "execution_count": null,
      "outputs": [
        {
          "output_type": "execute_result",
          "data": {
            "text/plain": [
              "True"
            ]
          },
          "metadata": {
            "tags": []
          },
          "execution_count": 10
        }
      ]
    },
    {
      "cell_type": "markdown",
      "metadata": {
        "id": "jUyRncDsnbCH"
      },
      "source": [
        "### Reminder\n",
        "### Matrix mulitplication:\n",
        "$${A} ={\\begin{bmatrix}a_{11}&a_{12}&\\cdots &a_{1n}\\\\a_{21}&a_{22}&\\cdots &a_{2n}\\\\\\vdots &\\vdots &\\ddots &\\vdots \\\\a_{m1}&a_{m2}&\\cdots &a_{mn}\\\\\\end{bmatrix}}$$\n",
        "A - $m\\ x\\ n$ matrix\n",
        "\n",
        "$$ {B} ={\\begin{bmatrix}b_{11}&b_{12}&\\cdots &b_{1p}\\\\b_{21}&b_{22}&\\cdots &b_{2p}\\\\\\vdots &\\vdots &\\ddots &\\vdots \\\\b_{n1}&b_{n2}&\\cdots &b_{np}\\\\\\end{bmatrix}}$$\n",
        "B - $n\\ x\\ p$ matrix\n",
        "\n",
        "$$C = AB$$\n",
        "C - $ m \\ x \\ p $ matrix  \n",
        "To be able to multiply two matrices, the number of columns in the left matrix must match the number of rows in the right matrix.\n",
        "\n",
        "Matrix multiplication is not alternating! $$AB \\neq BA$$\n",
        "\n",
        "### Example 1\n",
        "$ X = \\begin{bmatrix}5&3\\\\3&9\\end{bmatrix}$, $ Y= \\begin{bmatrix}1\\\\-1\\end{bmatrix} $   \n",
        "$ X - $ 2x2 matrix  \n",
        "$ Y - $ 2x1 matrix  \n",
        "$$Z = X \\cdot Y = \\begin{bmatrix}5&3\\\\3&9\\end{bmatrix} \\cdot \\begin{bmatrix}1\\\\-1\\end{bmatrix} = \\begin{bmatrix}2\\\\-6\\end{bmatrix}$$\n",
        "$ Z - $ 2x1 matrix  \n",
        "\n",
        "### Example 2\n",
        "$X = \\begin{bmatrix}2&-1&3\\\\3&1&0\\end{bmatrix}$, $Y = \\begin{bmatrix}2&1&-1\\\\0&-1&2\\\\3&2&0\\end{bmatrix}$    \n",
        "  \n",
        "$X  -$ 2x3 matrix     \n",
        "$Y - $ 3x3 matrix  \n",
        "$$Z = X \\cdot Y =  \\begin{bmatrix}2&-1&3\\\\3&1&0\\end{bmatrix} \\cdot \\begin{bmatrix}2&1&-1\\\\0&-1&2\\\\3&2&0\\end{bmatrix} = \\begin{bmatrix}13&9&-4\\\\6&2&-1\\end{bmatrix}$$\n",
        "$Z - $ 2x3 matrix  "
      ]
    },
    {
      "cell_type": "markdown",
      "metadata": {
        "id": "o3HKIKlP15Ro"
      },
      "source": [
        "### <a name='5'></a> Exercise 65\n",
        "Two two-dimensional arrays are provided, numpy $ A $ and $ B $.  \n",
        "$ A $ - dimension matrix $ (3, 2) $  \n",
        "$ B $ - dimension matrix $ (2, 3) $  \n",
        "```\n",
        "A = np.array([[2, 3],\n",
        "              [-4, 2],\n",
        "              [5, 0]])\n",
        "B = np.array([[4, 3, 2],\n",
        "              [-1, 0, 2]])\n",
        "```\n",
        "Perform matrix multiplication of $ A $ and $ B $ arrays.\n",
        "\n",
        "__Tip:__ Use the _np.dot()_ function."
      ]
    },
    {
      "cell_type": "code",
      "metadata": {
        "id": "2E1T58x9pHl0",
        "colab": {
          "base_uri": "https://localhost:8080/"
        },
        "outputId": "46e2e94e-3e54-4bb8-89db-10a7638a7f46"
      },
      "source": [
        "A = np.array([[2, 3],\n",
        "              [-4, 2],\n",
        "              [5, 0]])\n",
        "B = np.array([[4, 3, 2],\n",
        "              [-1, 0, 2]])\n",
        "\n",
        "np.dot(A,B)"
      ],
      "execution_count": null,
      "outputs": [
        {
          "output_type": "execute_result",
          "data": {
            "text/plain": [
              "array([[  5,   6,  10],\n",
              "       [-18, -12,  -4],\n",
              "       [ 20,  15,  10]])"
            ]
          },
          "metadata": {
            "tags": []
          },
          "execution_count": 11
        }
      ]
    },
    {
      "cell_type": "markdown",
      "metadata": {
        "id": "6ygOeWbCpNFQ"
      },
      "source": [
        "### Reminder\n",
        "\n",
        "### Determinant of the matrix:\n",
        "\n",
        "$${\\displaystyle A={\\begin{bmatrix}a_{11}&a_{12}&\\dots &a_{1n}\\\\a_{21}&a_{22}&\\dots &a_{2n}\\\\\\vdots &\\vdots &\\ddots &\\vdots \\\\a_{n1}&a_{n2}&\\dots &a_{nn}\\end{bmatrix}}}$$\n",
        "$A$ - _nxn_ matrix\n",
        "\n",
        "#### Signs:\n",
        "\n",
        "${\\displaystyle |A|=\\left|{\\begin{array}{c}a_{11}&a_{12}&\\dots &a_{1n}\\\\a_{21}&a_{22}&\\dots &a_{2n}\\\\\\vdots &\\vdots &\\ddots &\\vdots \\\\a_{n1}&a_{n2}&\\dots &a_{nn}\\end{array}}\\right|} $  lub  $ {\\displaystyle \\det A=\\det {\\begin{bmatrix}a_{11}&a_{12}&\\dots &a_{1n}\\\\a_{21}&a_{22}&\\dots &a_{2n}\\\\\\vdots &\\vdots &\\ddots &\\vdots \\\\a_{n1}&a_{n2}&\\dots &a_{nn}\\end{bmatrix}}}$\n",
        "\n",
        "#### Example:\n",
        "${\\displaystyle \\det A={\\begin{vmatrix}a_{11}&a_{12}\\\\a_{21}&a_{22}\\end{vmatrix}}=a_{11}a_{22}-a_{12}a_{21}}$\n",
        "\n",
        "${\\displaystyle \\det A={\\begin{vmatrix}a_{11}&a_{12}&a_{13}\\\\a_{21}&a_{22}&a_{23}\\\\a_{31}&a_{32}&a_{33}\\end{vmatrix}}=a_{11}a_{22}a_{33}+a_{21}a_{32}a_{13}+a_{31}a_{12}a_{23}-a_{21}a_{12}a_{33}-a_{11}a_{32}a_{23}-a_{31}a_{22}a_{13}}$\n",
        "\n",
        "${\\displaystyle \\det A={\\begin{vmatrix}2&4\\\\-1&3\\end{vmatrix}}=2\\cdot3-4\\cdot(-1)} = 6 + 4 = 10 $"
      ]
    },
    {
      "cell_type": "markdown",
      "metadata": {
        "id": "PunXd_Ey16so"
      },
      "source": [
        "### <a name='6'></a> Exercise 66\n",
        "The following array (square matrix) $ A $ is given:\n",
        "\n",
        "```\n",
        "A = np.array([[-2, 0, 4],\n",
        "              [5, 2, -1],\n",
        "              [-4, 2, 4]])\n",
        "```\n",
        "Compute the determinant of the $ A $ matrix.\n",
        "\n",
        "__Tip:__ Use the function _np.linalg.det()_.\n"
      ]
    },
    {
      "cell_type": "code",
      "metadata": {
        "id": "a1I6nDFqplIY",
        "colab": {
          "base_uri": "https://localhost:8080/"
        },
        "outputId": "808410c7-5331-40f5-f443-380cf36b79db"
      },
      "source": [
        "A = np.array([[-2, 0, 4],\n",
        "              [5, 2, -1],\n",
        "              [-4, 2, 4]])\n",
        "\n",
        "np.linalg.det(A)"
      ],
      "execution_count": null,
      "outputs": [
        {
          "output_type": "execute_result",
          "data": {
            "text/plain": [
              "51.999999999999986"
            ]
          },
          "metadata": {
            "tags": []
          },
          "execution_count": 12
        }
      ]
    },
    {
      "cell_type": "markdown",
      "metadata": {
        "id": "hOhqDRz618Tx"
      },
      "source": [
        "### <a name='7'></a> Exercise 67\n",
        "The following array (square matrix) $ A $ is given:\n",
        "```\n",
        "A = np.array([[5, 8, 16],\n",
        "              [4, 1, 8],\n",
        "              [-4, 4, -11]])\n",
        "```\n",
        "Calculate eigenvalues and their corresponding eigenvectors of the $ A $ matrix.\n",
        "__Tip:__ Use the function _np.linalg.eig()_."
      ]
    },
    {
      "cell_type": "code",
      "metadata": {
        "id": "rjBUmsM3pwHP",
        "colab": {
          "base_uri": "https://localhost:8080/"
        },
        "outputId": "b3b5df5f-023d-4fbb-e7f4-3247823fde92"
      },
      "source": [
        "A = np.array([[5, 8, 16],\n",
        "              [4, 1, 8],\n",
        "              [-4, 4, -11]])\n",
        "\n",
        "np.linalg.eig(A)"
      ],
      "execution_count": null,
      "outputs": [
        {
          "output_type": "execute_result",
          "data": {
            "text/plain": [
              "(array([-9.2462, -3.    ,  7.2462]), array([[-0.6262, -0.8944,  0.8902],\n",
              "        [-0.3131,  0.    ,  0.4451],\n",
              "        [ 0.7141,  0.4472, -0.0976]]))"
            ]
          },
          "metadata": {
            "tags": []
          },
          "execution_count": 13
        }
      ]
    },
    {
      "cell_type": "markdown",
      "metadata": {
        "id": "k4uXSctypy7o"
      },
      "source": [
        "### Reminder\n",
        "### Inverse matrix:\n",
        "\n",
        "$ A $ - square matrix of degree $ n $. The $ A $ matrix has an inverse matrix when there is a $ B $ matrix such as\n",
        "$$ AB = BA = I $$\n",
        "\n",
        "$A = \\begin{bmatrix}2&4\\\\-1&3\\end{bmatrix}$"
      ]
    },
    {
      "cell_type": "markdown",
      "metadata": {
        "id": "TXUd_4631-gw"
      },
      "source": [
        "### <a name='8'></a> Exercise 68\n",
        "The following array (square matrix) $ A $ is given:\n",
        "```\n",
        "A = np.array([[5, 8, 16],\n",
        "              [4, 1, 8],\n",
        "              [-4, 4, -11]])\n",
        "```\n",
        "Find the inverse matrix to the $ A $ matrix.\n",
        "\n",
        "__Tip:__ Use the function _np.linalg.inv()_."
      ]
    },
    {
      "cell_type": "code",
      "metadata": {
        "id": "1Z5Y9ghsqLSM",
        "colab": {
          "base_uri": "https://localhost:8080/"
        },
        "outputId": "c66655ba-7e14-45f8-a988-03b471d9a6fc"
      },
      "source": [
        "A = np.array([[5, 8, 16],\n",
        "              [4, 1, 8],\n",
        "              [-4, 4, -11]])\n",
        "\n",
        "np.linalg.inv(A)"
      ],
      "execution_count": null,
      "outputs": [
        {
          "output_type": "execute_result",
          "data": {
            "text/plain": [
              "array([[-0.2139,  0.7562,  0.2388],\n",
              "       [ 0.0597,  0.0448,  0.1194],\n",
              "       [ 0.0995, -0.2587, -0.1343]])"
            ]
          },
          "metadata": {
            "tags": []
          },
          "execution_count": 15
        }
      ]
    },
    {
      "cell_type": "markdown",
      "metadata": {
        "id": "R5AitAIUqOyc"
      },
      "source": [
        "### Reminder\n",
        "\n",
        "### Matrix trace:\n",
        "\n",
        "$${\\displaystyle A={\\begin{bmatrix}a_{11}&a_{12}&\\dots &a_{1n}\\\\a_{21}&a_{22}&\\dots &a_{2n}\\\\\\vdots &\\vdots &\\ddots &\\vdots \\\\a_{n1}&a_{n2}&\\dots &a_{nn}\\end{bmatrix}}}$$\n",
        "$A$ - nxn matrix\n",
        "\n",
        "${\\displaystyle \\operatorname {tr} (A)=\\sum _{i=1}^{n}a_{ii}=a_{11}+a_{22}+\\dots +a_{nn}}$\n",
        "\n",
        "\n",
        "#### Example:\n",
        "$A = \\begin{bmatrix}2&4\\\\-1&3\\end{bmatrix}$\n",
        "\n",
        "${\\displaystyle \\operatorname {tr} (A)=\\sum _{i=1}^{2}a_{ii}=a_{11}+a_{22} = 2 + 3 = 5}$"
      ]
    },
    {
      "cell_type": "markdown",
      "metadata": {
        "id": "tgI6xEn-2AQo"
      },
      "source": [
        "### <a name='9'></a> Exercise 69\n",
        "The following array (square matrix) $ A $ is given:\n",
        "```\n",
        "A = np.array([[5, 8, 16],\n",
        "              [4, 1, 8],\n",
        "              [-4, 4, -11]])\n",
        "```\n",
        "Find the trace of the square matrix $ A $ (sum of elements on the main diagonal).\n",
        "\n",
        "__Tip:__ Use the _np.trace()_ function."
      ]
    },
    {
      "cell_type": "code",
      "metadata": {
        "id": "m_I4VM72qf0y",
        "colab": {
          "base_uri": "https://localhost:8080/"
        },
        "outputId": "d64adaa2-930b-430e-f222-2a66e9a31cec"
      },
      "source": [
        "A = np.array([[5, 8, 16],\n",
        "              [4, 1, 8],\n",
        "              [-4, 4, -11]])\n",
        "\n",
        "np.trace(A)"
      ],
      "execution_count": null,
      "outputs": [
        {
          "output_type": "execute_result",
          "data": {
            "text/plain": [
              "-5"
            ]
          },
          "metadata": {
            "tags": []
          },
          "execution_count": 16
        }
      ]
    },
    {
      "cell_type": "markdown",
      "metadata": {
        "id": "_1uZhrrXqjoJ"
      },
      "source": [
        "### Reminder\n",
        "### Transposed matrix:\n",
        "\n",
        "Replace rows with columns and columns with rows.\n",
        "\n",
        "#### Example 1:\n",
        "\n",
        "$A = \\begin{bmatrix}2&4\\\\-1&3\\end{bmatrix}$,\n",
        "$A^{T} = \\begin{bmatrix}2&-1\\\\4&3\\end{bmatrix}$\n",
        "\n",
        "#### Example 2:\n",
        "$A = \\begin{bmatrix}2&1&-1\\\\0&-1&2\\end{bmatrix}$,\n",
        "$A^{T} = \\begin{bmatrix}2&0\\\\1&-1\\\\-1&2\\end{bmatrix}$"
      ]
    },
    {
      "cell_type": "markdown",
      "metadata": {
        "id": "qM-ltANCqxf4"
      },
      "source": [
        "### Exercise 69 continued\n",
        "Transpose the $ A $ matrix."
      ]
    },
    {
      "cell_type": "code",
      "metadata": {
        "id": "YFc0KW6URsuc",
        "colab": {
          "base_uri": "https://localhost:8080/"
        },
        "outputId": "07d2fd7a-49d1-4207-b618-7a9661184ea5"
      },
      "source": [
        "np.transpose(A)"
      ],
      "execution_count": null,
      "outputs": [
        {
          "output_type": "execute_result",
          "data": {
            "text/plain": [
              "array([[  5,   4,  -4],\n",
              "       [  8,   1,   4],\n",
              "       [ 16,   8, -11]])"
            ]
          },
          "metadata": {
            "tags": []
          },
          "execution_count": 17
        }
      ]
    },
    {
      "cell_type": "markdown",
      "metadata": {
        "id": "doVhcUIvq-4-"
      },
      "source": [
        "### <a name='10'> </a> Exercise 70\n",
        "Two two-dimensional arrays numpy $ A $ and $ B $ are given:  \n",
        "$ A $ - matrix of $ (4, 2) $ dimension  \n",
        "$ B $ - matrix of $ (1, 8) $ dimension\n",
        "\n",
        "```\n",
        "A = np.array([[2, 0],\n",
        "              [4, 2],\n",
        "              [5, 3],\n",
        "              [4, 2]])\n",
        "B = np.array([[4, 0, 2, 1, 1, 0, 2, 9]])\n",
        "```\n",
        "Transform the $ B $ array so that you can do the matrix multiplication of $ A \\cdot B $. Perform this multiplication.\n",
        "\n",
        "__Expected result:__\n",
        "```\n",
        "array([[ 8,  0,  4,  2],\n",
        "       [18,  0, 12, 22],\n",
        "       [23,  0, 16, 32],\n",
        "       [18,  0, 12, 22]])\n",
        "```"
      ]
    },
    {
      "cell_type": "code",
      "metadata": {
        "id": "KmeJQoA0q7ex",
        "colab": {
          "base_uri": "https://localhost:8080/"
        },
        "outputId": "0ec42380-2678-4679-9657-c3a10f787855"
      },
      "source": [
        "A = np.array([[2, 0],\n",
        "              [4, 2],\n",
        "              [5, 3],\n",
        "              [4, 2]])\n",
        "B = np.array([[4, 0, 2, 1, 1, 0, 2, 9]])\n",
        "B = B.reshape(2,-1)\n",
        "np.dot(A,B)"
      ],
      "execution_count": null,
      "outputs": [
        {
          "output_type": "execute_result",
          "data": {
            "text/plain": [
              "array([[ 8,  0,  4,  2],\n",
              "       [18,  0, 12, 22],\n",
              "       [23,  0, 16, 32],\n",
              "       [18,  0, 12, 22]])"
            ]
          },
          "metadata": {
            "tags": []
          },
          "execution_count": 21
        }
      ]
    }
  ]
}